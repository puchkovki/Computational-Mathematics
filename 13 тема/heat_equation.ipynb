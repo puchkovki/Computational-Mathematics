{
 "cells": [
  {
   "cell_type": "markdown",
   "metadata": {},
   "source": [
    "Решаем уравнение теплопроводности с заданным начальным распределением температуры при помощи схемы Кранка-Николсона:\n",
    "\n",
    "\\begin{cases}\n",
    "\\dfrac{\\partial u}{\\partial t} = \\dfrac{\\partial^2 u}{\\partial x^2}\\\\\n",
    "u(t, 0) = u(t, 1) = 0\\\\\n",
    "u(0, x) = 8x(1-x)\n",
    "\\end{cases}"
   ]
  },
  {
   "cell_type": "code",
   "execution_count": 35,
   "metadata": {
    "colab": {},
    "colab_type": "code",
    "id": "M1ZYfoamQCmg"
   },
   "outputs": [
    {
     "output_type": "display_data",
     "data": {
      "text/plain": "<Figure size 720x576 with 0 Axes>"
     },
     "metadata": {}
    },
    {
     "output_type": "display_data",
     "data": {
      "text/plain": "<Figure size 720x576 with 0 Axes>"
     },
     "metadata": {}
    },
    {
     "output_type": "display_data",
     "data": {
      "text/plain": "<Figure size 720x576 with 0 Axes>"
     },
     "metadata": {}
    },
    {
     "output_type": "display_data",
     "data": {
      "text/plain": "<Figure size 720x576 with 0 Axes>"
     },
     "metadata": {}
    },
    {
     "output_type": "display_data",
     "data": {
      "text/plain": "<Figure size 720x576 with 0 Axes>"
     },
     "metadata": {}
    },
    {
     "output_type": "display_data",
     "data": {
      "text/plain": "<Figure size 720x576 with 0 Axes>"
     },
     "metadata": {}
    },
    {
     "output_type": "display_data",
     "data": {
      "text/plain": "<Figure size 720x576 with 0 Axes>"
     },
     "metadata": {}
    }
   ],
   "source": [
    "import numpy as np\n",
    "import matplotlib.pyplot as plt\n",
    "import os, sys\n",
    "import matplotlib\n",
    "\n",
    "matplotlib.rc('font', size=18)\n",
    "matplotlib.rc('font', family='Arial')\n",
    "\n",
    "#definition of numerical parameters\n",
    "N = 51 #number of grid points\n",
    "dt = 5.e-4 #time step\n",
    "L = float(1) #size of grid\n",
    "nsteps = 620 #number of time steps\n",
    "dx = L/(N-1) #grid spacing\n",
    "nplot = 100 #number of timesteps before plotting\n",
    "\n",
    "r = dt/dx**2 #assuming heat diffusion coefficient == 1\n",
    "\n",
    "#initialize matrices A, B and b array\n",
    "A = np.zeros((N-2,N-2))\n",
    "B = np.zeros((N-2,N-2))\n",
    "b = np.zeros((N-2))\n",
    "#define matrices A, B and b array\n",
    "for i in range(N-2):\n",
    "    if i==0:\n",
    "        A[i,:] = [2+2*r if j==0 else (-r) if j==1 else 0 for j in range(N-2)]\n",
    "        B[i,:] = [2-2*r if j==0 else r if j==1 else 0 for j in range(N-2)]\n",
    "        b[i] = 0. #boundary condition at i=1\n",
    "    elif i==N-3:\n",
    "        A[i,:] = [-r if j==N-4 else 2+2*r if j==N-3 else 0 for j in range(N-2)]\n",
    "        B[i,:] = [r if j==N-4 else 2-2*r if j==N-3 else 0 for j in range(N-2)]\n",
    "        b[i] = 0. #boundary condition at i=N\n",
    "    else:\n",
    "        A[i,:] = [-r if j==i-1 or j==i+1 else 2+2*r if j==i else 0 for j in range(N-2)]\n",
    "        B[i,:] = [r if j==i-1 or j==i+1 else 2-2*r if j==i else 0 for j in range(N-2)]\n",
    "\n",
    "#initialize grid\n",
    "x = np.linspace(0,1,N)\n",
    "#initial condition\n",
    "u = np.array([8*xx*(1-xx) for xx in x])\n",
    "#evaluate right hand side at t=0\n",
    "bb = B.dot(u[1:-1]) + b\n",
    "\n",
    "c = 0\n",
    "for j in range(nsteps):\n",
    "    #find solution inside domain\n",
    "    u[1:-1] = np.linalg.solve(A,bb)\n",
    "    #update right hand side\n",
    "    bb = B.dot(u[1:-1]) + b\n",
    "    if(j%nplot==0): #plot results every nplot timesteps\n",
    "        plt.figure(figsize=(10,8))\n",
    "        plt.plot(x,u,linewidth=2, color='darkred')\n",
    "        plt.ylim([0,2])\n",
    "        filename = 'res_' + str(c+1).zfill(3) + '.png';\n",
    "        plt.xlabel(\"x\")\n",
    "        plt.ylabel(\"u\")\n",
    "        plt.title(\"t = %2.2f\"%(dt*(j+1)))\n",
    "        plt.savefig(filename)\n",
    "        plt.clf()\n",
    "        c += 1"
   ]
  },
  {
   "cell_type": "code",
   "execution_count": 34,
   "metadata": {},
   "outputs": [
    {
     "output_type": "execute_result",
     "data": {
      "text/plain": "0"
     },
     "metadata": {},
     "execution_count": 34
    }
   ],
   "source": [
    "os.system(\"rm -f *.png\")"
   ]
  },
  {
   "cell_type": "code",
   "execution_count": null,
   "metadata": {},
   "outputs": [],
   "source": []
  }
 ],
 "metadata": {
  "colab": {
   "collapsed_sections": [],
   "name": "heat_equation.ipynb",
   "provenance": []
  },
  "kernelspec": {
   "display_name": "Python 3.7.7 64-bit",
   "language": "python",
   "name": "python37764bit7c66f960cebc494bb0e2f92f9710e768"
  },
  "language_info": {
   "codemirror_mode": {
    "name": "ipython",
    "version": 3
   },
   "file_extension": ".py",
   "mimetype": "text/x-python",
   "name": "python",
   "nbconvert_exporter": "python",
   "pygments_lexer": "ipython3",
   "version": "3.7.7-final"
  }
 },
 "nbformat": 4,
 "nbformat_minor": 1
}